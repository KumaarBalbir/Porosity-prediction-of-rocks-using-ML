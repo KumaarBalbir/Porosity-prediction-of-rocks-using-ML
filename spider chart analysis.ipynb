{
 "cells": [
  {
   "cell_type": "code",
   "execution_count": 221,
   "id": "12cfa1a8",
   "metadata": {},
   "outputs": [],
   "source": [
    "from sklearn.model_selection import train_test_split\n",
    "from sklearn import linear_model\n",
    "from sklearn.ensemble import RandomForestRegressor\n",
    "from sklearn.neighbors import KNeighborsRegressor \n",
    "from sklearn.svm import SVR\n",
    "import xgboost as xgb \n",
    "import warnings\n",
    "import matplotlib.pyplot as plt"
   ]
  },
  {
   "cell_type": "code",
   "execution_count": 222,
   "id": "041f8604",
   "metadata": {},
   "outputs": [],
   "source": [
    "warnings.filterwarnings('ignore')"
   ]
  },
  {
   "cell_type": "code",
   "execution_count": 223,
   "id": "2c395195",
   "metadata": {},
   "outputs": [],
   "source": [
    "%store -r data_FG_FC\n",
    "%store -r data_FG_WC\n",
    "%store -r data_MG_FC\n",
    "%store -r data_MG_WC\n",
    "%store -r data_CG_FC\n",
    "%store -r data_CG_WC"
   ]
  },
  {
   "cell_type": "code",
   "execution_count": 224,
   "id": "6941dd00",
   "metadata": {},
   "outputs": [],
   "source": [
    "from sklearn.metrics import mean_absolute_error,mean_squared_error\n",
    "\n",
    "\n",
    "import numpy as np\n",
    "import pandas as pd\n",
    "import math"
   ]
  },
  {
   "cell_type": "code",
   "execution_count": 225,
   "id": "58f84a8d",
   "metadata": {},
   "outputs": [],
   "source": [
    "def mae(actual,predicted):\n",
    "    return mean_absolute_error(actual,predicted)"
   ]
  },
  {
   "cell_type": "code",
   "execution_count": 226,
   "id": "2f9ba779",
   "metadata": {},
   "outputs": [],
   "source": [
    "def mape(actual, predicted): \n",
    "    actual, predicted = np.array(actual), np.array(predicted)\n",
    "    return np.mean(np.abs((actual - predicted) / actual)) * 100"
   ]
  },
  {
   "cell_type": "code",
   "execution_count": 227,
   "id": "a6d78038",
   "metadata": {},
   "outputs": [],
   "source": [
    "# import numpy as np\n",
    "# act= np.array([5,2,3,7])\n",
    "# pr=np.array([5,1,4,5])\n",
    "# print(np.mean((np.abs(act-pr)/act))*100)"
   ]
  },
  {
   "cell_type": "code",
   "execution_count": 228,
   "id": "65a14260",
   "metadata": {},
   "outputs": [],
   "source": [
    "def rmse(actual,predicted):\n",
    "    mse=np.square((np.subtract(np.array(actual),predicted)).mean())\n",
    "    return math.sqrt(mse)\n"
   ]
  },
  {
   "cell_type": "code",
   "execution_count": 229,
   "id": "e645c5fe",
   "metadata": {},
   "outputs": [],
   "source": [
    "def mxae(actual,predicted):\n",
    "    import itertools\n",
    "    mx=-1\n",
    "    actual=np.array(actual)\n",
    "    predicted=np.array(predicted) \n",
    "    for (i,j) in zip(actual,predicted):\n",
    "        if abs(i-j)>mx:\n",
    "            mx=abs(i-j)\n",
    "    return mx"
   ]
  },
  {
   "cell_type": "code",
   "execution_count": 230,
   "id": "1fa6f175",
   "metadata": {},
   "outputs": [],
   "source": [
    "def MLR(input_train,input_test,output_train):\n",
    "    regr = linear_model.LinearRegression()\n",
    "    regr.fit(input_train, output_train)\n",
    "    predicted=regr.predict(input_test) \n",
    "    return predicted"
   ]
  },
  {
   "cell_type": "code",
   "execution_count": 231,
   "id": "07b545db",
   "metadata": {},
   "outputs": [],
   "source": [
    "def RF(input_train,input_test,output_train):\n",
    "    # create regressor object\n",
    "    clf = RandomForestRegressor(n_estimators = 80, random_state = 0)\n",
    "    \n",
    "    # fit the regressor with x and y data\n",
    "    clf.fit(input_train, output_train.values.ravel()) \n",
    "    predicted = clf.predict(input_test) \n",
    "    return predicted"
   ]
  },
  {
   "cell_type": "code",
   "execution_count": 232,
   "id": "89209af9",
   "metadata": {},
   "outputs": [],
   "source": [
    "def SVR_(input_train,input_test,output_train):\n",
    "    regressor = SVR(kernel = 'linear')\n",
    "    regressor.fit(input_train, output_train)\n",
    "    predicted=regressor.predict(input_test)\n",
    "    return predicted"
   ]
  },
  {
   "cell_type": "code",
   "execution_count": 233,
   "id": "210dfa74",
   "metadata": {},
   "outputs": [],
   "source": [
    "def KNN(input_train,input_test,output_train):\n",
    "    # Fit and score\n",
    "    knn = KNeighborsRegressor(n_neighbors=3,weights='distance')\n",
    "    knn.fit(input_train, output_train)\n",
    "    predicted=knn.predict(input_test) \n",
    "    return predicted"
   ]
  },
  {
   "cell_type": "code",
   "execution_count": 234,
   "id": "7f450bcc",
   "metadata": {},
   "outputs": [],
   "source": [
    "def XGBoost(input_train,input_test,output_train):\n",
    "    import xgboost as xgb\n",
    "    xgb_model = xgb.XGBRegressor(objective=\"reg:linear\", random_state=42)\n",
    "\n",
    "    xgb_model.fit(input_train, output_train)\n",
    "\n",
    "    predicted = xgb_model.predict(input_test)\n",
    "    return predicted"
   ]
  },
  {
   "cell_type": "code",
   "execution_count": 235,
   "id": "df4e6b8b",
   "metadata": {},
   "outputs": [],
   "source": [
    "df=pd.read_excel('water_cooling_combined.xlsx')"
   ]
  },
  {
   "cell_type": "code",
   "execution_count": 236,
   "id": "f335c72c",
   "metadata": {},
   "outputs": [
    {
     "data": {
      "text/html": [
       "<div>\n",
       "<style scoped>\n",
       "    .dataframe tbody tr th:only-of-type {\n",
       "        vertical-align: middle;\n",
       "    }\n",
       "\n",
       "    .dataframe tbody tr th {\n",
       "        vertical-align: top;\n",
       "    }\n",
       "\n",
       "    .dataframe thead th {\n",
       "        text-align: right;\n",
       "    }\n",
       "</style>\n",
       "<table border=\"1\" class=\"dataframe\">\n",
       "  <thead>\n",
       "    <tr style=\"text-align: right;\">\n",
       "      <th></th>\n",
       "      <th>Temperature</th>\n",
       "      <th>Mass</th>\n",
       "      <th>P-wave velocity</th>\n",
       "      <th>S-wave velocity</th>\n",
       "      <th>Porosity (%)</th>\n",
       "      <th>Species</th>\n",
       "    </tr>\n",
       "  </thead>\n",
       "  <tbody>\n",
       "    <tr>\n",
       "      <th>0</th>\n",
       "      <td>25</td>\n",
       "      <td>44.1990</td>\n",
       "      <td>5.79200</td>\n",
       "      <td>3.254000</td>\n",
       "      <td>0.471000</td>\n",
       "      <td>Fine grain</td>\n",
       "    </tr>\n",
       "    <tr>\n",
       "      <th>1</th>\n",
       "      <td>50</td>\n",
       "      <td>44.1980</td>\n",
       "      <td>5.65967</td>\n",
       "      <td>3.203330</td>\n",
       "      <td>0.626333</td>\n",
       "      <td>Fine grain</td>\n",
       "    </tr>\n",
       "    <tr>\n",
       "      <th>2</th>\n",
       "      <td>75</td>\n",
       "      <td>44.1970</td>\n",
       "      <td>5.52733</td>\n",
       "      <td>3.152670</td>\n",
       "      <td>0.781667</td>\n",
       "      <td>Fine grain</td>\n",
       "    </tr>\n",
       "    <tr>\n",
       "      <th>3</th>\n",
       "      <td>100</td>\n",
       "      <td>44.1960</td>\n",
       "      <td>5.39500</td>\n",
       "      <td>3.102000</td>\n",
       "      <td>0.937000</td>\n",
       "      <td>Fine grain</td>\n",
       "    </tr>\n",
       "    <tr>\n",
       "      <th>4</th>\n",
       "      <td>125</td>\n",
       "      <td>44.1947</td>\n",
       "      <td>5.31775</td>\n",
       "      <td>3.054000</td>\n",
       "      <td>1.014500</td>\n",
       "      <td>Fine grain</td>\n",
       "    </tr>\n",
       "    <tr>\n",
       "      <th>...</th>\n",
       "      <td>...</td>\n",
       "      <td>...</td>\n",
       "      <td>...</td>\n",
       "      <td>...</td>\n",
       "      <td>...</td>\n",
       "      <td>...</td>\n",
       "    </tr>\n",
       "    <tr>\n",
       "      <th>111</th>\n",
       "      <td>800</td>\n",
       "      <td>37.9890</td>\n",
       "      <td>0.63540</td>\n",
       "      <td>0.381240</td>\n",
       "      <td>8.986000</td>\n",
       "      <td>Coarse grain</td>\n",
       "    </tr>\n",
       "    <tr>\n",
       "      <th>112</th>\n",
       "      <td>825</td>\n",
       "      <td>37.9380</td>\n",
       "      <td>0.57186</td>\n",
       "      <td>0.343116</td>\n",
       "      <td>9.236250</td>\n",
       "      <td>Coarse grain</td>\n",
       "    </tr>\n",
       "    <tr>\n",
       "      <th>113</th>\n",
       "      <td>850</td>\n",
       "      <td>37.8870</td>\n",
       "      <td>0.50832</td>\n",
       "      <td>0.304992</td>\n",
       "      <td>9.486500</td>\n",
       "      <td>Coarse grain</td>\n",
       "    </tr>\n",
       "    <tr>\n",
       "      <th>114</th>\n",
       "      <td>875</td>\n",
       "      <td>37.8360</td>\n",
       "      <td>0.44478</td>\n",
       "      <td>0.266868</td>\n",
       "      <td>9.736750</td>\n",
       "      <td>Coarse grain</td>\n",
       "    </tr>\n",
       "    <tr>\n",
       "      <th>115</th>\n",
       "      <td>900</td>\n",
       "      <td>37.7850</td>\n",
       "      <td>0.38124</td>\n",
       "      <td>0.228744</td>\n",
       "      <td>9.987000</td>\n",
       "      <td>Coarse grain</td>\n",
       "    </tr>\n",
       "  </tbody>\n",
       "</table>\n",
       "<p>116 rows × 6 columns</p>\n",
       "</div>"
      ],
      "text/plain": [
       "     Temperature     Mass  P-wave velocity  S-wave velocity  Porosity (%)  \\\n",
       "0             25  44.1990          5.79200         3.254000      0.471000   \n",
       "1             50  44.1980          5.65967         3.203330      0.626333   \n",
       "2             75  44.1970          5.52733         3.152670      0.781667   \n",
       "3            100  44.1960          5.39500         3.102000      0.937000   \n",
       "4            125  44.1947          5.31775         3.054000      1.014500   \n",
       "..           ...      ...              ...              ...           ...   \n",
       "111          800  37.9890          0.63540         0.381240      8.986000   \n",
       "112          825  37.9380          0.57186         0.343116      9.236250   \n",
       "113          850  37.8870          0.50832         0.304992      9.486500   \n",
       "114          875  37.8360          0.44478         0.266868      9.736750   \n",
       "115          900  37.7850          0.38124         0.228744      9.987000   \n",
       "\n",
       "          Species  \n",
       "0      Fine grain  \n",
       "1      Fine grain  \n",
       "2      Fine grain  \n",
       "3      Fine grain  \n",
       "4      Fine grain  \n",
       "..            ...  \n",
       "111  Coarse grain  \n",
       "112  Coarse grain  \n",
       "113  Coarse grain  \n",
       "114  Coarse grain  \n",
       "115  Coarse grain  \n",
       "\n",
       "[116 rows x 6 columns]"
      ]
     },
     "execution_count": 236,
     "metadata": {},
     "output_type": "execute_result"
    }
   ],
   "source": [
    "df"
   ]
  },
  {
   "cell_type": "code",
   "execution_count": 237,
   "id": "f5eed8f7",
   "metadata": {},
   "outputs": [],
   "source": [
    "\n",
    "inputs= df[['Temperature','Mass','P-wave velocity','S-wave velocity']]\n",
    "output= df[['Porosity (%)']] \n"
   ]
  },
  {
   "cell_type": "code",
   "execution_count": 238,
   "id": "e7f59939",
   "metadata": {},
   "outputs": [],
   "source": [
    "# list of list \n",
    "MAE=[]\n",
    "MAPE=[] \n",
    "RMSE=[]\n",
    "MXAE=[] \n"
   ]
  },
  {
   "cell_type": "code",
   "execution_count": 239,
   "id": "358c0c33",
   "metadata": {},
   "outputs": [],
   "source": [
    "input_train,input_test,output_train,output_test=train_test_split(inputs,output,test_size=0.2,random_state=14)"
   ]
  },
  {
   "cell_type": "code",
   "execution_count": 240,
   "id": "ddcb5c80",
   "metadata": {},
   "outputs": [
    {
     "name": "stdout",
     "output_type": "stream",
     "text": [
      "[10:00:15] WARNING: C:/Users/administrator/workspace/xgboost-win64_release_1.6.0/src/objective/regression_obj.cu:203: reg:linear is now deprecated in favor of reg:squarederror.\n"
     ]
    }
   ],
   "source": [
    "initial_mae_list=[]\n",
    "\n",
    "mlr=MLR(input_train,input_test,output_train)\n",
    "rf=RF(input_train,input_test,output_train)\n",
    "svr=SVR_(input_train,input_test,output_train) \n",
    "knn=KNN(input_train,input_test,output_train)\n",
    "xgb=XGBoost(input_train,input_test,output_train)\n",
    "initial_mae_list.append(mae(output_test,mlr))\n",
    "initial_mae_list.append(mae(output_test,rf))\n",
    "initial_mae_list.append(mae(output_test,svr))\n",
    "initial_mae_list.append(mae(output_test,knn))\n",
    "initial_mae_list.append(mae(output_test,xgb)) "
   ]
  },
  {
   "cell_type": "code",
   "execution_count": 241,
   "id": "7cd5fe7d",
   "metadata": {},
   "outputs": [
    {
     "name": "stdout",
     "output_type": "stream",
     "text": [
      "[10:00:18] WARNING: C:/Users/administrator/workspace/xgboost-win64_release_1.6.0/src/objective/regression_obj.cu:203: reg:linear is now deprecated in favor of reg:squarederror.\n"
     ]
    }
   ],
   "source": [
    "initial_mape_list=[]\n",
    "\n",
    "mlr=MLR(input_train,input_test,output_train)\n",
    "rf=RF(input_train,input_test,output_train)\n",
    "svr=SVR_(input_train,input_test,output_train) \n",
    "knn=KNN(input_train,input_test,output_train)\n",
    "xgb=XGBoost(input_train,input_test,output_train)\n",
    "initial_mape_list.append(mape(output_test,mlr))\n",
    "initial_mape_list.append(mape(output_test,rf))\n",
    "initial_mape_list.append(mape(output_test,svr))\n",
    "initial_mape_list.append(mape(output_test,knn)) \n",
    "initial_mape_list.append(mape(output_test,xgb))"
   ]
  },
  {
   "cell_type": "code",
   "execution_count": 242,
   "id": "3094c2e2",
   "metadata": {},
   "outputs": [
    {
     "name": "stdout",
     "output_type": "stream",
     "text": [
      "[10:00:21] WARNING: C:/Users/administrator/workspace/xgboost-win64_release_1.6.0/src/objective/regression_obj.cu:203: reg:linear is now deprecated in favor of reg:squarederror.\n"
     ]
    }
   ],
   "source": [
    "initial_rmse_list=[]\n",
    "\n",
    "mlr=MLR(input_train,input_test,output_train)\n",
    "rf=RF(input_train,input_test,output_train)\n",
    "svr=SVR_(input_train,input_test,output_train) \n",
    "knn=KNN(input_train,input_test,output_train)\n",
    "xgb=XGBoost(input_train,input_test,output_train)\n",
    "initial_rmse_list.append(rmse(output_test,mlr))\n",
    "initial_rmse_list.append(rmse(output_test,rf))\n",
    "initial_rmse_list.append(rmse(output_test,svr))\n",
    "initial_rmse_list.append(rmse(output_test,knn))\n",
    "initial_rmse_list.append(rmse(output_test,xgb)) "
   ]
  },
  {
   "cell_type": "code",
   "execution_count": 243,
   "id": "eb903d9b",
   "metadata": {},
   "outputs": [
    {
     "name": "stdout",
     "output_type": "stream",
     "text": [
      "[10:00:24] WARNING: C:/Users/administrator/workspace/xgboost-win64_release_1.6.0/src/objective/regression_obj.cu:203: reg:linear is now deprecated in favor of reg:squarederror.\n"
     ]
    }
   ],
   "source": [
    "initial_mxae_list=[]\n",
    "\n",
    "mlr=MLR(input_train,input_test,output_train)\n",
    "rf=RF(input_train,input_test,output_train)\n",
    "svr=SVR_(input_train,input_test,output_train) \n",
    "knn=KNN(input_train,input_test,output_train)\n",
    "xgb=XGBoost(input_train,input_test,output_train)\n",
    "initial_mxae_list.append(mxae(output_test,mlr))\n",
    "initial_mxae_list.append(mxae(output_test,rf))\n",
    "initial_mxae_list.append(mxae(output_test,svr))\n",
    "initial_mxae_list.append(mxae(output_test,knn))\n",
    "initial_mxae_list.append(mxae(output_test,xgb))"
   ]
  },
  {
   "cell_type": "code",
   "execution_count": 244,
   "id": "9b30190d",
   "metadata": {},
   "outputs": [],
   "source": [
    "for i in range(5):\n",
    "    initial_mxae_list[i]=initial_mxae_list[i][0]"
   ]
  },
  {
   "cell_type": "code",
   "execution_count": 245,
   "id": "7f0b3171",
   "metadata": {},
   "outputs": [
    {
     "data": {
      "text/plain": [
       "[2.8055330182988385,\n",
       " 0.91299375,\n",
       " 3.6108329030151767,\n",
       " 3.936331361959337,\n",
       " 0.6566166114807128]"
      ]
     },
     "execution_count": 245,
     "metadata": {},
     "output_type": "execute_result"
    }
   ],
   "source": [
    "initial_mxae_list"
   ]
  },
  {
   "cell_type": "code",
   "execution_count": 246,
   "id": "10dcbd9f",
   "metadata": {},
   "outputs": [],
   "source": [
    "# fg_fc_error=[]\n",
    "# fg_fc_error.append(initial_mae_list)\n",
    "# fg_fc_error.append(initial_mape_list)\n",
    "# fg_fc_error.append(initial_rmse_list)\n",
    "# fg_fc_error.append(initial_mxae_list)"
   ]
  },
  {
   "cell_type": "code",
   "execution_count": 247,
   "id": "c10d1bbb",
   "metadata": {},
   "outputs": [],
   "source": [
    "# fg_fc_error"
   ]
  },
  {
   "cell_type": "code",
   "execution_count": 248,
   "id": "68417ad5",
   "metadata": {},
   "outputs": [],
   "source": [
    "# df_fg_fc_error=pd.DataFrame(fg_fc_error)"
   ]
  },
  {
   "cell_type": "code",
   "execution_count": 249,
   "id": "68262918",
   "metadata": {},
   "outputs": [],
   "source": [
    "# # determining the name of the file\n",
    "# file_name = 'cg_wc_err3.xlsx'\n",
    "  \n",
    "# # saving the excel\n",
    "# df_fg_fc_error.to_excel(file_name)"
   ]
  },
  {
   "cell_type": "code",
   "execution_count": null,
   "id": "6af73c58",
   "metadata": {},
   "outputs": [],
   "source": []
  },
  {
   "cell_type": "code",
   "execution_count": null,
   "id": "275e83b0",
   "metadata": {},
   "outputs": [],
   "source": []
  },
  {
   "cell_type": "code",
   "execution_count": null,
   "id": "745dffb6",
   "metadata": {},
   "outputs": [],
   "source": []
  },
  {
   "cell_type": "code",
   "execution_count": null,
   "id": "acd70ecf",
   "metadata": {},
   "outputs": [
    {
     "name": "stdout",
     "output_type": "stream",
     "text": [
      "[10:00:27] WARNING: C:/Users/administrator/workspace/xgboost-win64_release_1.6.0/src/objective/regression_obj.cu:203: reg:linear is now deprecated in favor of reg:squarederror.\n",
      "[10:00:30] WARNING: C:/Users/administrator/workspace/xgboost-win64_release_1.6.0/src/objective/regression_obj.cu:203: reg:linear is now deprecated in favor of reg:squarederror.\n"
     ]
    }
   ],
   "source": [
    "initial_mae_list=[]\n",
    "\n",
    "mlr=MLR(input_train,input_test,output_train)\n",
    "rf=RF(input_train,input_test,output_train)\n",
    "svr=SVR_(input_train,input_test,output_train) \n",
    "knn=KNN(input_train,input_test,output_train)\n",
    "xgb=XGBoost(input_train,input_test,output_train)\n",
    "initial_mae_list.append(mae(output_test,mlr))\n",
    "initial_mae_list.append(mae(output_test,rf))\n",
    "initial_mae_list.append(mae(output_test,svr))\n",
    "initial_mae_list.append(mae(output_test,knn))\n",
    "initial_mae_list.append(mae(output_test,xgb)) \n",
    " \n",
    "\n",
    "\n",
    "\n",
    "col_list=['Temperature(°C)','Mass','P-wave velocity','S-wave velocity'] \n",
    "\n",
    "for col in col_list:\n",
    "    tem_train=input_train\n",
    "    tem_test=input_test\n",
    "    input_train=input_train.loc[:,input_train.columns!= col]\n",
    "    input_test=input_test.loc[:,input_test.columns!= col]\n",
    "    \n",
    "    mlr=MLR(input_train,input_test,output_train)\n",
    "    rf=RF(input_train,input_test,output_train)\n",
    "    svr=SVR_(input_train,input_test,output_train) \n",
    "    knn=KNN(input_train,input_test,output_train)\n",
    "    xgb=XGBoost(input_train,input_test,output_train)\n",
    "    \n",
    "    mae_list=[]\n",
    "    \n",
    "    mae_list.append(mae(output_test,mlr))\n",
    "    mae_list.append(mae(output_test,rf))\n",
    "    mae_list.append(mae(output_test,svr))\n",
    "    mae_list.append(mae(output_test,knn))\n",
    "    mae_list.append(mae(output_test,xgb)) \n",
    "    \n",
    "    MAE.append(mae_list)\n",
    "    \n",
    "   \n",
    "    \n",
    "    input_train=tem_train\n",
    "    input_test=tem_test\n",
    "    \n",
    "\n"
   ]
  },
  {
   "cell_type": "code",
   "execution_count": null,
   "id": "2478cf49",
   "metadata": {},
   "outputs": [],
   "source": [
    "initial_mape_list=[]\n",
    "\n",
    "mlr=MLR(input_train,input_test,output_train)\n",
    "rf=RF(input_train,input_test,output_train)\n",
    "svr=SVR_(input_train,input_test,output_train) \n",
    "knn=KNN(input_train,input_test,output_train)\n",
    "xgb=XGBoost(input_train,input_test,output_train)\n",
    "initial_mape_list.append(mape(output_test,mlr))\n",
    "initial_mape_list.append(mape(output_test,rf))\n",
    "initial_mape_list.append(mape(output_test,svr))\n",
    "initial_mape_list.append(mape(output_test,knn)) \n",
    "initial_mape_list.append(mape(output_test,xgb)) \n",
    " \n",
    "\n",
    "\n",
    "\n",
    "col_list=['Temperature(°C)','Mass','P-wave velocity','S-wave velocity'] \n",
    "\n",
    "for col in col_list:\n",
    "    tem_train=input_train\n",
    "    tem_test=input_test\n",
    "    input_train=input_train.loc[:,input_train.columns!= col]\n",
    "    input_test=input_test.loc[:,input_test.columns!= col]\n",
    "    \n",
    "    mlr=MLR(input_train,input_test,output_train)\n",
    "    rf=RF(input_train,input_test,output_train)\n",
    "    svr=SVR_(input_train,input_test,output_train) \n",
    "    knn=KNN(input_train,input_test,output_train)\n",
    "    xgb=XGBoost(input_train,input_test,output_train)\n",
    "    \n",
    "    mape_list=[]\n",
    "    \n",
    "    mape_list.append(mape(output_test,mlr))\n",
    "    mape_list.append(mape(output_test,rf))\n",
    "    mape_list.append(mape(output_test,svr))\n",
    "    mape_list.append(mape(output_test,knn))\n",
    "    mape_list.append(mape(output_test,xgb)) \n",
    "    \n",
    "    MAPE.append(mape_list)\n",
    "    \n",
    "   \n",
    "    \n",
    "    input_train=tem_train\n",
    "    input_test=tem_test\n",
    "    \n",
    "\n"
   ]
  },
  {
   "cell_type": "code",
   "execution_count": null,
   "id": "6c71a92a",
   "metadata": {},
   "outputs": [],
   "source": [
    "initial_rmse_list=[]\n",
    "\n",
    "mlr=MLR(input_train,input_test,output_train)\n",
    "rf=RF(input_train,input_test,output_train)\n",
    "svr=SVR_(input_train,input_test,output_train) \n",
    "knn=KNN(input_train,input_test,output_train)\n",
    "xgb=XGBoost(input_train,input_test,output_train)\n",
    "initial_rmse_list.append(rmse(output_test,mlr))\n",
    "initial_rmse_list.append(rmse(output_test,rf))\n",
    "initial_rmse_list.append(rmse(output_test,svr))\n",
    "initial_rmse_list.append(rmse(output_test,knn))\n",
    "initial_rmse_list.append(rmse(output_test,xgb)) \n",
    " \n",
    "\n",
    "\n",
    "\n",
    "col_list=['Temperature(°C)','Mass','P-wave velocity','S-wave velocity'] \n",
    "\n",
    "for col in col_list:\n",
    "    tem_train=input_train\n",
    "    tem_test=input_test\n",
    "    input_train=input_train.loc[:,input_train.columns!= col]\n",
    "    input_test=input_test.loc[:,input_test.columns!= col]\n",
    "    \n",
    "    mlr=MLR(input_train,input_test,output_train)\n",
    "    rf=RF(input_train,input_test,output_train)\n",
    "    svr=SVR_(input_train,input_test,output_train) \n",
    "    knn=KNN(input_train,input_test,output_train)\n",
    "    xgb=XGBoost(input_train,input_test,output_train)\n",
    "    \n",
    "    rmse_list=[]\n",
    "    \n",
    "    rmse_list.append(mae(output_test,mlr))\n",
    "    rmse_list.append(mae(output_test,rf))\n",
    "    rmse_list.append(mae(output_test,svr))\n",
    "    rmse_list.append(mae(output_test,knn))\n",
    "    rmse_list.append(mae(output_test,xgb)) \n",
    "    \n",
    "    RMSE.append(rmse_list) \n",
    "    \n",
    "   \n",
    "    \n",
    "    input_train=tem_train\n",
    "    input_test=tem_test\n",
    "    \n",
    "    \n",
    "\n"
   ]
  },
  {
   "cell_type": "code",
   "execution_count": null,
   "id": "bd807961",
   "metadata": {},
   "outputs": [],
   "source": [
    "initial_mxae_list=[]\n",
    "\n",
    "mlr=MLR(input_train,input_test,output_train)\n",
    "rf=RF(input_train,input_test,output_train)\n",
    "svr=SVR_(input_train,input_test,output_train) \n",
    "knn=KNN(input_train,input_test,output_train)\n",
    "xgb=XGBoost(input_train,input_test,output_train)\n",
    "initial_mxae_list.append(mxae(output_test,mlr))\n",
    "initial_mxae_list.append(mxae(output_test,rf))\n",
    "initial_mxae_list.append(mxae(output_test,svr))\n",
    "initial_mxae_list.append(mxae(output_test,knn))\n",
    "initial_mxae_list.append(mxae(output_test,xgb)) \n",
    " \n",
    "\n",
    "\n",
    "\n",
    "col_list=['Temperature(°C)','Mass','P-wave velocity','S-wave velocity'] \n",
    "\n",
    "for col in col_list:\n",
    "    tem_train=input_train\n",
    "    tem_test=input_test\n",
    "    input_train=input_train.loc[:,input_train.columns!= col]\n",
    "    input_test=input_test.loc[:,input_test.columns!= col]\n",
    "    \n",
    "    mlr=MLR(input_train,input_test,output_train)\n",
    "    rf=RF(input_train,input_test,output_train)\n",
    "    svr=SVR_(input_train,input_test,output_train) \n",
    "    knn=KNN(input_train,input_test,output_train)\n",
    "    xgb=XGBoost(input_train,input_test,output_train)\n",
    "    \n",
    "    mxae_list=[]\n",
    "    \n",
    "    mxae_list.append(mxae(output_test,mlr))\n",
    "    mxae_list.append(mxae(output_test,rf))\n",
    "    mxae_list.append(mxae(output_test,svr))\n",
    "    mxae_list.append(mxae(output_test,knn))\n",
    "    mxae_list.append(mxae(output_test,xgb)) \n",
    "    \n",
    "    MXAE.append(mxae_list)\n",
    "    \n",
    "   \n",
    "    \n",
    "    input_train=tem_train\n",
    "    input_test=tem_test\n",
    "    \n",
    "\n"
   ]
  },
  {
   "cell_type": "code",
   "execution_count": null,
   "id": "6a5da7e5",
   "metadata": {},
   "outputs": [],
   "source": [
    "# MAE"
   ]
  },
  {
   "cell_type": "code",
   "execution_count": null,
   "id": "fce5d891",
   "metadata": {},
   "outputs": [],
   "source": [
    "# MAPE"
   ]
  },
  {
   "cell_type": "code",
   "execution_count": null,
   "id": "f321f825",
   "metadata": {},
   "outputs": [],
   "source": [
    "# RMSE"
   ]
  },
  {
   "cell_type": "code",
   "execution_count": null,
   "id": "e35e8f08",
   "metadata": {},
   "outputs": [],
   "source": [
    "# MXAE"
   ]
  },
  {
   "cell_type": "code",
   "execution_count": null,
   "id": "0ea97ac3",
   "metadata": {},
   "outputs": [],
   "source": [
    "for i in range(len(MAE)):\n",
    "    for j in range(len(MAE[i])):\n",
    "        MAE[i][j]=((MAE[i][j]-initial_mae_list[j])/initial_mae_list[j])*100"
   ]
  },
  {
   "cell_type": "code",
   "execution_count": null,
   "id": "34dd23b0",
   "metadata": {},
   "outputs": [],
   "source": [
    "# MAE"
   ]
  },
  {
   "cell_type": "code",
   "execution_count": null,
   "id": "48ed83b1",
   "metadata": {},
   "outputs": [],
   "source": [
    "# initial_mae_list"
   ]
  },
  {
   "cell_type": "code",
   "execution_count": null,
   "id": "86fd6514",
   "metadata": {
    "scrolled": true
   },
   "outputs": [],
   "source": [
    "# initial_mape_list"
   ]
  },
  {
   "cell_type": "code",
   "execution_count": null,
   "id": "87d76ee4",
   "metadata": {},
   "outputs": [],
   "source": [
    "# initial_rmse_list"
   ]
  },
  {
   "cell_type": "code",
   "execution_count": null,
   "id": "7f4b8b92",
   "metadata": {},
   "outputs": [],
   "source": [
    "# initial_mxae_list"
   ]
  },
  {
   "cell_type": "code",
   "execution_count": null,
   "id": "987efe57",
   "metadata": {},
   "outputs": [],
   "source": [
    "for i in range(len(MAPE)):\n",
    "    for j in range(len(MAPE[i])):\n",
    "        MAPE[i][j]=((MAPE[i][j]-initial_mape_list[j])/initial_mape_list[j])*100"
   ]
  },
  {
   "cell_type": "code",
   "execution_count": null,
   "id": "74d6b710",
   "metadata": {},
   "outputs": [],
   "source": [
    "for i in range(len(RMSE)):\n",
    "    for j in range(len(RMSE[i])):\n",
    "        RMSE[i][j]=((RMSE[i][j]-initial_rmse_list[j])/initial_rmse_list[j])*100"
   ]
  },
  {
   "cell_type": "code",
   "execution_count": null,
   "id": "5bdaadf6",
   "metadata": {},
   "outputs": [],
   "source": [
    "for i in range(len(MXAE)):\n",
    "    for j in range(len(MXAE[i])):\n",
    "        MXAE[i][j]=((MXAE[i][j]-initial_mxae_list[j])/initial_mxae_list[j])*100"
   ]
  },
  {
   "cell_type": "code",
   "execution_count": null,
   "id": "288726b3",
   "metadata": {},
   "outputs": [],
   "source": [
    "# MXAE"
   ]
  },
  {
   "cell_type": "code",
   "execution_count": null,
   "id": "2a4de7f4",
   "metadata": {},
   "outputs": [],
   "source": [
    "# X=[row[0] for row in MAE]\n",
    "# X"
   ]
  },
  {
   "cell_type": "code",
   "execution_count": null,
   "id": "b0f12e31",
   "metadata": {},
   "outputs": [],
   "source": [
    "# pip install plotly"
   ]
  },
  {
   "cell_type": "code",
   "execution_count": null,
   "id": "520c33f5",
   "metadata": {},
   "outputs": [],
   "source": [
    "# import plotly.offline as pyo\n",
    "# pyo.init_notebook_mode()"
   ]
  },
  {
   "cell_type": "code",
   "execution_count": null,
   "id": "6a0c6f8f",
   "metadata": {},
   "outputs": [],
   "source": [
    "# import plotly.graph_objects as go\n",
    "# from math import pi\n",
    "# categories = ['Temperature','Mass','P-wave velocity',  'S-wave velocity']\n",
    "# fig = go.Figure()\n",
    "\n",
    "\n",
    "# fig.add_trace(go.Scatterpolar(\n",
    "#       r=[row[0] for row in MAE],\n",
    "#       theta=categories,\n",
    "#       fill='toself',\n",
    "    \n",
    "#       name='MLR'\n",
    "# ))\n",
    "\n",
    "# fig.add_trace(go.Scatterpolar(\n",
    "#       r=[row[1] for row in MAE],\n",
    "#       theta=categories,\n",
    "#       fill='toself',\n",
    "#       name='RF'\n",
    "# ))\n",
    "\n",
    "# fig.add_trace(go.Scatterpolar(\n",
    "#       r=[row[2] for row in MAE],\n",
    "#       theta=categories,\n",
    "#       fill='toself',\n",
    "#       name='SVR' \n",
    "# ))\n",
    "\n",
    "# fig.add_trace(go.Scatterpolar(\n",
    "#       r=[row[3] for row in MAE],\n",
    "#       theta=categories,\n",
    "#       fill='toself',\n",
    "#       name='KNN'\n",
    "# ))\n",
    "\n",
    "# fig.add_trace(go.Scatterpolar(\n",
    "#       r=[row[4] for row in MAE],\n",
    "#       theta=categories,\n",
    "#       fill='toself',\n",
    "    \n",
    "#       name='XGBoost'\n",
    "# ))\n",
    "\n",
    "\n",
    "\n",
    "# fig.update_layout(\n",
    "#   polar=dict(\n",
    "#     radialaxis=dict(\n",
    "#       visible=True,\n",
    "#       range=[-100,250]\n",
    "#     )),\n",
    "#   showlegend=True,\n",
    "#      title=\"% MAE change\"\n",
    "# )\n",
    "# fig.show()"
   ]
  },
  {
   "cell_type": "code",
   "execution_count": null,
   "id": "6d6b08d8",
   "metadata": {},
   "outputs": [],
   "source": [
    "import plotly.graph_objects as go\n",
    "\n",
    "fig=go.Figure()\n",
    "categories = ['Temperature','Mass','P-wave velocity',  'S-wave velocity']\n",
    "categories = [*categories, categories[0]]\n",
    "\n",
    "MLR = [row[0] for row in MAE]\n",
    "RF=[row[1] for row in MAE]\n",
    "SVM=[row[2] for row in MAE]\n",
    "KNN=[row[3] for row in MAE]\n",
    "XGBoost=[row[4] for row in MAE]\n",
    "\n",
    "MLR = [*MLR, MLR[0]]\n",
    "RF = [*RF, RF[0]]\n",
    "SVM = [*SVM, SVM[0]]\n",
    "KNN = [*KNN, KNN[0]]\n",
    "XGBoost = [*XGBoost, XGBoost[0]]\n",
    "\n",
    "\n",
    "\n",
    "fig = go.Figure(\n",
    "    data=[\n",
    "        go.Scatterpolar(r=MLR, theta=categories, name='MLR'),\n",
    "        go.Scatterpolar(r=RF, theta=categories, name='RF'),\n",
    "        go.Scatterpolar(r=SVM, theta=categories, name='SVM'),\n",
    "        go.Scatterpolar(r=KNN, theta=categories, name='KNN'),\n",
    "        go.Scatterpolar(r=XGBoost, theta=categories, name='XGBoost')\n",
    "        \n",
    "    ],\n",
    "    layout=go.Layout(\n",
    "        title=go.layout.Title(text=' % MAE Change'),\n",
    "        polar={'radialaxis': {'visible': True}},\n",
    "        showlegend=True,\n",
    "           font=dict(\n",
    "        family=\"aerial\",\n",
    "        size=18,\n",
    "        color=\"black\"\n",
    "    )\n",
    "       \n",
    "        \n",
    "    )\n",
    ")\n",
    "\n",
    "fig.show()"
   ]
  },
  {
   "cell_type": "code",
   "execution_count": null,
   "id": "fac8a004",
   "metadata": {},
   "outputs": [],
   "source": [
    "import plotly.graph_objects as go\n",
    "\n",
    "fig=go.Figure()\n",
    "categories = ['Temperature','Mass','P-wave velocity',  'S-wave velocity']\n",
    "categories = [*categories, categories[0]]\n",
    "\n",
    "MLR = [row[0] for row in MAPE]\n",
    "RF=[row[1] for row in MAPE]\n",
    "SVM=[row[2] for row in MAPE]\n",
    "KNN=[row[3] for row in MAPE]\n",
    "XGBoost=[row[4] for row in MAPE]\n",
    "\n",
    "MLR = [*MLR, MLR[0]]\n",
    "RF = [*RF, RF[0]]\n",
    "SVM = [*SVM, SVM[0]]\n",
    "KNN = [*KNN, KNN[0]]\n",
    "XGBoost = [*XGBoost, XGBoost[0]]\n",
    "\n",
    "\n",
    "\n",
    "fig = go.Figure(\n",
    "    data=[\n",
    "        go.Scatterpolar(r=MLR, theta=categories, name='MLR'),\n",
    "        go.Scatterpolar(r=RF, theta=categories, name='RF'),\n",
    "        go.Scatterpolar(r=SVM, theta=categories, name='SVM'),\n",
    "        go.Scatterpolar(r=KNN, theta=categories, name='KNN'),\n",
    "        go.Scatterpolar(r=XGBoost, theta=categories, name='XGBoost')\n",
    "        \n",
    "    ],\n",
    "    layout=go.Layout(\n",
    "        title=go.layout.Title(text=' % MAPE Change'),\n",
    "        polar={'radialaxis': {'visible': True}},\n",
    "        showlegend=True,\n",
    "                   font=dict(\n",
    "        family=\"aerial\",\n",
    "        size=18,\n",
    "        color=\"black\"\n",
    "    )\n",
    "    )\n",
    ")\n",
    "\n",
    "fig.show()"
   ]
  },
  {
   "cell_type": "code",
   "execution_count": null,
   "id": "52287fb0",
   "metadata": {},
   "outputs": [],
   "source": [
    "# RMSE"
   ]
  },
  {
   "cell_type": "code",
   "execution_count": null,
   "id": "63a9c3af",
   "metadata": {},
   "outputs": [],
   "source": [
    "# r=[row[1] for row in RMSE]\n",
    "# r"
   ]
  },
  {
   "cell_type": "code",
   "execution_count": null,
   "id": "74dae3fb",
   "metadata": {},
   "outputs": [],
   "source": [
    "import plotly.graph_objects as go\n",
    "\n",
    "fig=go.Figure()\n",
    "categories = ['Temperature','Mass','P-wave velocity',  'S-wave velocity']\n",
    "categories = [*categories, categories[0]]\n",
    "\n",
    "MLR = [row[0] for row in RMSE]\n",
    "RF=[row[1] for row in RMSE]\n",
    "SVM=[row[2] for row in RMSE]\n",
    "KNN=[row[3] for row in RMSE]\n",
    "XGBoost=[row[4] for row in RMSE]\n",
    "\n",
    "MLR = [*MLR, MLR[0]]\n",
    "RF = [*RF, RF[0]]\n",
    "SVM = [*SVM, SVM[0]]\n",
    "KNN = [*KNN, KNN[0]]\n",
    "XGBoost = [*XGBoost, XGBoost[0]]\n",
    "\n",
    "\n",
    "\n",
    "fig = go.Figure(\n",
    "    data=[\n",
    "        go.Scatterpolar(r=MLR, theta=categories, name='MLR'),\n",
    "        go.Scatterpolar(r=RF, theta=categories, name='RF'),\n",
    "        go.Scatterpolar(r=SVM, theta=categories, name='SVM'),\n",
    "        go.Scatterpolar(r=KNN, theta=categories, name='KNN'),\n",
    "        go.Scatterpolar(r=XGBoost, theta=categories, name='XGBoost')\n",
    "        \n",
    "    ],\n",
    "    layout=go.Layout(\n",
    "        title=go.layout.Title(text=' % RMSE Change'),\n",
    "        polar={'radialaxis': {'visible': True}},\n",
    "        showlegend=True,\n",
    "                   font=dict(\n",
    "        family=\"aerial\",\n",
    "        size=18,\n",
    "        color=\"black\"\n",
    "    )\n",
    "    )\n",
    ")\n",
    "\n",
    "fig.show()"
   ]
  },
  {
   "cell_type": "code",
   "execution_count": null,
   "id": "bea08934",
   "metadata": {},
   "outputs": [],
   "source": [
    "# MXAE"
   ]
  },
  {
   "cell_type": "code",
   "execution_count": null,
   "id": "c94afcae",
   "metadata": {},
   "outputs": [],
   "source": [
    "for i in range(4):\n",
    "    for j in range(5):\n",
    "        MXAE[i][j]=MXAE[i][j][0]"
   ]
  },
  {
   "cell_type": "code",
   "execution_count": null,
   "id": "792cc637",
   "metadata": {
    "scrolled": true
   },
   "outputs": [],
   "source": [
    "MXAE"
   ]
  },
  {
   "cell_type": "code",
   "execution_count": null,
   "id": "14b8da86",
   "metadata": {},
   "outputs": [],
   "source": [
    "import plotly.graph_objects as go\n",
    "\n",
    "fig=go.Figure()\n",
    "categories = ['Temperature','Mass','P-wave velocity',  'S-wave velocity']\n",
    "categories = [*categories, categories[0]]\n",
    "\n",
    "MLR = [row[0] for row in MXAE]\n",
    "RF=[row[1] for row in MXAE]\n",
    "SVM=[row[2] for row in MXAE]\n",
    "KNN=[row[3] for row in MXAE]\n",
    "XGBoost=[row[4] for row in MXAE]\n",
    "\n",
    "MLR = [*MLR, MLR[0]]\n",
    "RF = [*RF, RF[0]]\n",
    "SVM = [*SVM, SVM[0]]\n",
    "KNN = [*KNN, KNN[0]]\n",
    "XGBoost = [*XGBoost, XGBoost[0]]\n",
    "\n",
    "\n",
    "\n",
    "fig = go.Figure(\n",
    "    data=[\n",
    "        go.Scatterpolar(r=MLR, theta=categories, name='MLR'),\n",
    "        go.Scatterpolar(r=RF, theta=categories, name='RF'),\n",
    "        go.Scatterpolar(r=SVM, theta=categories, name='SVM'),\n",
    "        go.Scatterpolar(r=KNN, theta=categories, name='KNN'),\n",
    "        go.Scatterpolar(r=XGBoost, theta=categories, name='XGBoost')\n",
    "        \n",
    "    ],\n",
    "    layout=go.Layout(\n",
    "        title=go.layout.Title(text=' % MXAE Change'),\n",
    "        polar={'radialaxis': {'visible': True}},\n",
    "        showlegend=True,\n",
    "                        font=dict(\n",
    "        family=\"aerial\",\n",
    "        size=18,\n",
    "        color=\"black\"\n",
    "    )\n",
    "        \n",
    "    )\n",
    ")\n",
    "\n",
    "fig.show()"
   ]
  },
  {
   "cell_type": "code",
   "execution_count": null,
   "id": "1b509114",
   "metadata": {},
   "outputs": [],
   "source": [
    "# MAE"
   ]
  },
  {
   "cell_type": "code",
   "execution_count": null,
   "id": "e2a08d96",
   "metadata": {},
   "outputs": [],
   "source": [
    "# MAPE"
   ]
  },
  {
   "cell_type": "code",
   "execution_count": null,
   "id": "6a326817",
   "metadata": {},
   "outputs": [],
   "source": [
    "# RMSE"
   ]
  },
  {
   "cell_type": "code",
   "execution_count": null,
   "id": "c4281e48",
   "metadata": {},
   "outputs": [],
   "source": [
    "# MXAE"
   ]
  },
  {
   "cell_type": "code",
   "execution_count": null,
   "id": "16abde26",
   "metadata": {},
   "outputs": [],
   "source": []
  }
 ],
 "metadata": {
  "kernelspec": {
   "display_name": "Python 3 (ipykernel)",
   "language": "python",
   "name": "python3"
  },
  "language_info": {
   "codemirror_mode": {
    "name": "ipython",
    "version": 3
   },
   "file_extension": ".py",
   "mimetype": "text/x-python",
   "name": "python",
   "nbconvert_exporter": "python",
   "pygments_lexer": "ipython3",
   "version": "3.8.8"
  }
 },
 "nbformat": 4,
 "nbformat_minor": 5
}
